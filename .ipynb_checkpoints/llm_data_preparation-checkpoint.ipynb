{
 "cells": [
  {
   "cell_type": "markdown",
   "id": "066104c0-4f7f-441f-a0ec-706f1777e2ab",
   "metadata": {},
   "source": [
    "# Approach\n",
    "\n",
    "The text will merge title and body with little or no additional cleanup because titles tend to be properly formulated questions that respect natural language stucture and they are sometimes the only piece of text on a post.\n",
    "\n",
    "Given the easier appreciation of score differences in the log scale, I will use that transformation."
   ]
  },
  {
   "cell_type": "code",
   "execution_count": 1,
   "id": "d17df796-e62e-49d1-8e39-97268a322256",
   "metadata": {
    "tags": []
   },
   "outputs": [],
   "source": [
    "import pandas as pd\n",
    "import numpy as np\n",
    "from sklearn.model_selection import train_test_split\n",
    "\n",
    "reddit_df = pd.read_csv('./askscience_data.csv', index_col=0)\n",
    "\n",
    "def save_data_split_as_jsonlines(split, indxs, df, cols=['title','full_text','score']):\n",
    "\n",
    "    f_name = f'./data/reddit_scores_{split}.jsonlines'\n",
    "    \n",
    "    print(f'Saving {len(indxs)} records to {f_name}')\n",
    "    \n",
    "    # include title as an identifier\n",
    "    df.loc[indxs,cols].to_json(f_name, orient=\"records\", lines=True)"
   ]
  },
  {
   "cell_type": "code",
   "execution_count": 2,
   "id": "8bca42cd-eff6-4e6c-b924-2ac8a7f944f7",
   "metadata": {
    "tags": []
   },
   "outputs": [
    {
     "name": "stdout",
     "output_type": "stream",
     "text": [
      "Saving 841 records to ./data/reddit_scores_test.jsonlines\n",
      "Saving 3027 records to ./data/reddit_scores_train.jsonlines\n",
      "Saving 337 records to ./data/reddit_scores_val.jsonlines\n"
     ]
    }
   ],
   "source": [
    "# merge title and body\n",
    "reddit_df['full_text'] =  reddit_df.apply(lambda x: str(x.title) + ' ' + str(x.body), axis=1)\n",
    "reddit_df['score'] = np.log(1+reddit_df.score)\n",
    "\n",
    "# create splits\n",
    "fit_indxs, test_indxs = train_test_split(reddit_df.index.values, test_size=0.2, shuffle=False)\n",
    "train_indxs, val_indxs = train_test_split(fit_indxs, test_size=0.1, shuffle=False)\n",
    "\n",
    "# save splits\n",
    "save_data_split_as_jsonlines('test', test_indxs, reddit_df)\n",
    "save_data_split_as_jsonlines('train', train_indxs, reddit_df)\n",
    "save_data_split_as_jsonlines('val', val_indxs, reddit_df)"
   ]
  }
 ],
 "metadata": {
  "kernelspec": {
   "display_name": "Python 3 (ipykernel)",
   "language": "python",
   "name": "python3"
  },
  "language_info": {
   "codemirror_mode": {
    "name": "ipython",
    "version": 3
   },
   "file_extension": ".py",
   "mimetype": "text/x-python",
   "name": "python",
   "nbconvert_exporter": "python",
   "pygments_lexer": "ipython3",
   "version": "3.11.4"
  }
 },
 "nbformat": 4,
 "nbformat_minor": 5
}
